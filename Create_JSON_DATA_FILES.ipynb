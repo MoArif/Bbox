{
 "cells": [
  {
   "cell_type": "code",
   "execution_count": 7,
   "metadata": {
    "collapsed": true
   },
   "outputs": [],
   "source": [
    "import pandas as pd\n",
    "import os\n",
    "import json\n",
    "import numpy as np"
   ]
  },
  {
   "cell_type": "code",
   "execution_count": 8,
   "metadata": {
    "collapsed": true
   },
   "outputs": [],
   "source": [
    "df = pd.read_csv(\"/home/mohsan/Desktop/VWFS-WP2/BoundingBox_software/labelImg/data_full_en.csv\", sep='|')"
   ]
  },
  {
   "cell_type": "code",
   "execution_count": 9,
   "metadata": {},
   "outputs": [
    {
     "data": {
      "text/html": [
       "<div>\n",
       "<style>\n",
       "    .dataframe thead tr:only-child th {\n",
       "        text-align: right;\n",
       "    }\n",
       "\n",
       "    .dataframe thead th {\n",
       "        text-align: left;\n",
       "    }\n",
       "\n",
       "    .dataframe tbody tr th {\n",
       "        vertical-align: top;\n",
       "    }\n",
       "</style>\n",
       "<table border=\"1\" class=\"dataframe\">\n",
       "  <thead>\n",
       "    <tr style=\"text-align: right;\">\n",
       "      <th></th>\n",
       "      <th>uid</th>\n",
       "      <th>bildname</th>\n",
       "      <th>mbv</th>\n",
       "      <th>color</th>\n",
       "      <th>damage</th>\n",
       "      <th>action</th>\n",
       "      <th>part</th>\n",
       "      <th>cost</th>\n",
       "      <th>damage_en</th>\n",
       "      <th>action_en</th>\n",
       "      <th>part_en</th>\n",
       "      <th>part_p1</th>\n",
       "      <th>part_p2</th>\n",
       "      <th>img_file_path</th>\n",
       "    </tr>\n",
       "  </thead>\n",
       "  <tbody>\n",
       "    <tr>\n",
       "      <th>0</th>\n",
       "      <td>f1a287cf-f510-4ed7-853c-50d3d6194553</td>\n",
       "      <td>grp_Beschädigung-3_num_22_id_161727441.jpg</td>\n",
       "      <td>5J</td>\n",
       "      <td>9P</td>\n",
       "      <td>leuchtet</td>\n",
       "      <td>befunden ggf. instandsetzen</td>\n",
       "      <td>instrumententafel - kontrolleuchte</td>\n",
       "      <td>250.0</td>\n",
       "      <td>shines</td>\n",
       "      <td>if necessary, repair it</td>\n",
       "      <td>dashboard - control sought</td>\n",
       "      <td>instrumententafel</td>\n",
       "      <td>kontrolleuchte</td>\n",
       "      <td>/fs-home/data/vwfs_p2/data/original/img/f1a287...</td>\n",
       "    </tr>\n",
       "    <tr>\n",
       "      <th>1</th>\n",
       "      <td>f1a287cf-f510-4ed7-853c-50d3d6194553</td>\n",
       "      <td>grp_Beschädigung-6_num_25_id_161727444.jpg</td>\n",
       "      <td>5J</td>\n",
       "      <td>9P</td>\n",
       "      <td>delle / lackschaden</td>\n",
       "      <td>instandsetzen und lackieren</td>\n",
       "      <td>fahrzeugdach - dach</td>\n",
       "      <td>618.4</td>\n",
       "      <td>dent/ paint damage</td>\n",
       "      <td>repair and paint</td>\n",
       "      <td>vehicle roof - top</td>\n",
       "      <td>fahrzeugdach</td>\n",
       "      <td>dach</td>\n",
       "      <td>/fs-home/data/vwfs_p2/data/original/img/f1a287...</td>\n",
       "    </tr>\n",
       "    <tr>\n",
       "      <th>2</th>\n",
       "      <td>f1a287cf-f510-4ed7-853c-50d3d6194553</td>\n",
       "      <td>grp_Beschädigung-6_num_26_id_161727445.jpg</td>\n",
       "      <td>5J</td>\n",
       "      <td>9P</td>\n",
       "      <td>delle / lackschaden</td>\n",
       "      <td>instandsetzen und lackieren</td>\n",
       "      <td>fahrzeugdach - dach</td>\n",
       "      <td>618.4</td>\n",
       "      <td>dent/ paint damage</td>\n",
       "      <td>repair and paint</td>\n",
       "      <td>vehicle roof - top</td>\n",
       "      <td>fahrzeugdach</td>\n",
       "      <td>dach</td>\n",
       "      <td>/fs-home/data/vwfs_p2/data/original/img/f1a287...</td>\n",
       "    </tr>\n",
       "    <tr>\n",
       "      <th>3</th>\n",
       "      <td>f1a287cf-f510-4ed7-853c-50d3d6194553</td>\n",
       "      <td>grp_Beschädigung-6_num_27_id_161727446.jpg</td>\n",
       "      <td>5J</td>\n",
       "      <td>9P</td>\n",
       "      <td>delle / lackschaden</td>\n",
       "      <td>instandsetzen und lackieren</td>\n",
       "      <td>fahrzeugdach - dach</td>\n",
       "      <td>618.4</td>\n",
       "      <td>dent/ paint damage</td>\n",
       "      <td>repair and paint</td>\n",
       "      <td>vehicle roof - top</td>\n",
       "      <td>fahrzeugdach</td>\n",
       "      <td>dach</td>\n",
       "      <td>/fs-home/data/vwfs_p2/data/original/img/f1a287...</td>\n",
       "    </tr>\n",
       "    <tr>\n",
       "      <th>4</th>\n",
       "      <td>f1a287cf-f510-4ed7-853c-50d3d6194553</td>\n",
       "      <td>grp_Beschädigung-6_num_28_id_161727447.jpg</td>\n",
       "      <td>5J</td>\n",
       "      <td>9P</td>\n",
       "      <td>delle / lackschaden</td>\n",
       "      <td>instandsetzen und lackieren</td>\n",
       "      <td>fahrzeugdach - dach</td>\n",
       "      <td>618.4</td>\n",
       "      <td>dent/ paint damage</td>\n",
       "      <td>repair and paint</td>\n",
       "      <td>vehicle roof - top</td>\n",
       "      <td>fahrzeugdach</td>\n",
       "      <td>dach</td>\n",
       "      <td>/fs-home/data/vwfs_p2/data/original/img/f1a287...</td>\n",
       "    </tr>\n",
       "  </tbody>\n",
       "</table>\n",
       "</div>"
      ],
      "text/plain": [
       "                                    uid  \\\n",
       "0  f1a287cf-f510-4ed7-853c-50d3d6194553   \n",
       "1  f1a287cf-f510-4ed7-853c-50d3d6194553   \n",
       "2  f1a287cf-f510-4ed7-853c-50d3d6194553   \n",
       "3  f1a287cf-f510-4ed7-853c-50d3d6194553   \n",
       "4  f1a287cf-f510-4ed7-853c-50d3d6194553   \n",
       "\n",
       "                                     bildname mbv color               damage  \\\n",
       "0  grp_Beschädigung-3_num_22_id_161727441.jpg  5J    9P             leuchtet   \n",
       "1  grp_Beschädigung-6_num_25_id_161727444.jpg  5J    9P  delle / lackschaden   \n",
       "2  grp_Beschädigung-6_num_26_id_161727445.jpg  5J    9P  delle / lackschaden   \n",
       "3  grp_Beschädigung-6_num_27_id_161727446.jpg  5J    9P  delle / lackschaden   \n",
       "4  grp_Beschädigung-6_num_28_id_161727447.jpg  5J    9P  delle / lackschaden   \n",
       "\n",
       "                        action                                part   cost  \\\n",
       "0  befunden ggf. instandsetzen  instrumententafel - kontrolleuchte  250.0   \n",
       "1  instandsetzen und lackieren                 fahrzeugdach - dach  618.4   \n",
       "2  instandsetzen und lackieren                 fahrzeugdach - dach  618.4   \n",
       "3  instandsetzen und lackieren                 fahrzeugdach - dach  618.4   \n",
       "4  instandsetzen und lackieren                 fahrzeugdach - dach  618.4   \n",
       "\n",
       "            damage_en                action_en                      part_en  \\\n",
       "0              shines  if necessary, repair it   dashboard - control sought   \n",
       "1  dent/ paint damage         repair and paint           vehicle roof - top   \n",
       "2  dent/ paint damage         repair and paint           vehicle roof - top   \n",
       "3  dent/ paint damage         repair and paint           vehicle roof - top   \n",
       "4  dent/ paint damage         repair and paint           vehicle roof - top   \n",
       "\n",
       "             part_p1         part_p2  \\\n",
       "0  instrumententafel  kontrolleuchte   \n",
       "1       fahrzeugdach            dach   \n",
       "2       fahrzeugdach            dach   \n",
       "3       fahrzeugdach            dach   \n",
       "4       fahrzeugdach            dach   \n",
       "\n",
       "                                       img_file_path  \n",
       "0  /fs-home/data/vwfs_p2/data/original/img/f1a287...  \n",
       "1  /fs-home/data/vwfs_p2/data/original/img/f1a287...  \n",
       "2  /fs-home/data/vwfs_p2/data/original/img/f1a287...  \n",
       "3  /fs-home/data/vwfs_p2/data/original/img/f1a287...  \n",
       "4  /fs-home/data/vwfs_p2/data/original/img/f1a287...  "
      ]
     },
     "execution_count": 9,
     "metadata": {},
     "output_type": "execute_result"
    }
   ],
   "source": [
    "df.head()"
   ]
  },
  {
   "cell_type": "code",
   "execution_count": 10,
   "metadata": {
    "collapsed": true
   },
   "outputs": [],
   "source": [
    "def fix_damage_name(damage):\n",
    "#     print(damage)\n",
    "    tokens = damage.split(\"/\")\n",
    "    dmg = \"\"\n",
    "    if len(tokens) == 1:\n",
    "        d1=tokens[0].strip()        \n",
    "        tok = d1.split(\" \")\n",
    "        if len(tok) == 1:\n",
    "            d2 = tok[0]\n",
    "            dmg = dmg + d2\n",
    "        else:\n",
    "            d2 = tok[0]\n",
    "            dmg = dmg + d2 + \"_\"\n",
    "            d2 = tok[1]\n",
    "            dmg = dmg + d2          \n",
    "    else:\n",
    "        d1=tokens[0].strip()\n",
    "        dmg = dmg + d1 + \"-\"\n",
    "        d1=tokens[1].strip()\n",
    "        tok = d1.split(\" \")\n",
    "        if len(tok) == 1:\n",
    "            d2 = tok[0]\n",
    "            dmg = dmg + d2\n",
    "        else:\n",
    "            d2 = tok[0]\n",
    "            dmg = dmg + d2 + \"_\"\n",
    "            d2 = tok[1]\n",
    "            dmg = dmg + d2 \n",
    "    return dmg\n",
    "df['damage_en'] = df.damage_en.apply(lambda d: fix_damage_name(d))\n"
   ]
  },
  {
   "cell_type": "code",
   "execution_count": 5,
   "metadata": {
    "collapsed": true
   },
   "outputs": [],
   "source": [
    "\n",
    "# def split_p1(val):\n",
    "#     ps = val.split('-')\n",
    "#     p1 = ps[0].strip()    \n",
    "#     return p1\n",
    "# def split_p2(val):\n",
    "#     ps = val.split('-')\n",
    "#     p2 = ps[1].strip()    \n",
    "#     return p2\n",
    "# df['part_p1'] = df.part.map(lambda p: split_p1(p))\n",
    "# df['part_p2'] = df.part.map(lambda p: split_p2(p))"
   ]
  },
  {
   "cell_type": "code",
   "execution_count": 11,
   "metadata": {},
   "outputs": [
    {
     "name": "stdout",
     "output_type": "stream",
     "text": [
      "(280409, 15)\n",
      "(234457, 15)\n"
     ]
    }
   ],
   "source": [
    "drop_parts=['Ausrüstung','Instrumententafel','Bremsanlage','Motorkühlung',\n",
    "          'Kraftstoffanlage','Abgasanlage','Unterlagen','elektronische',\n",
    "          'Multimediasystem','Vermessung','Airbagssystem','Hinterachse',\n",
    "          'Antriebsstrang','Heizungssystem','Klimasystem','Sonstiges','interieur']\n",
    "drop_parts = [x.lower() for x in drop_parts] \n",
    "\n",
    "def check_part(part):\n",
    "    if part.split('-')[0].strip() in (drop_parts):\n",
    "        return True\n",
    "    else:\n",
    "        return False\n",
    "\n",
    "\n",
    "df['del'] = df.part.apply(lambda x: check_part(x))\n",
    "print(df.shape)\n",
    "df = df.loc[df['del'] == False]\n",
    "print(df.shape)\n",
    "df.drop(['del'], axis=1, inplace=True)\n",
    "\n",
    "\n",
    "\n"
   ]
  },
  {
   "cell_type": "code",
   "execution_count": null,
   "metadata": {
    "collapsed": true
   },
   "outputs": [],
   "source": []
  },
  {
   "cell_type": "code",
   "execution_count": 12,
   "metadata": {},
   "outputs": [],
   "source": [
    "# #image_root_dir = '/fs-home/data/vwfs_p2/data/original/img'\n",
    "# image_root_dir = '/home/mohsan/vwfs_p2/data/original/img'\n",
    "# ann_root_dir = '/home/mohsan/vwfs_p2/data/original/ann'\n",
    "# def get_img_file_path(uid, bildname):\n",
    "#     img_path = os.path.join(image_root_dir, uid, bildname)\n",
    "#     return img_path\n",
    "\n",
    "# def get_ann_file_path(uid):\n",
    "#     img_path = os.path.join(image_root_dir, uid)\n",
    "#     return img_path\n",
    "    \n",
    "# df['img_file_path'] = df[['uid','bildname']].apply(lambda row: get_img_file_path(row['uid'], row['bildname']),  axis=1) \n",
    "# df['ann_file_path'] = df[['uid','bildname']].apply(lambda row: get_ann_file_path(row['uid']),  axis=1) \n",
    "# df.head()"
   ]
  },
  {
   "cell_type": "code",
   "execution_count": null,
   "metadata": {
    "collapsed": true
   },
   "outputs": [],
   "source": []
  },
  {
   "cell_type": "code",
   "execution_count": 127,
   "metadata": {
    "collapsed": true
   },
   "outputs": [],
   "source": [
    "# help_text = dict()\n",
    "\n",
    "# help_text['undicht'] = \"For Tyres with air leak, please try to the whole tyre so the flatten part is clear \\nFor lights, capture the part where water bubbles are shown\"\n",
    "# help_text[\"fehlstellung\"] = \"Please capture the part/whole area, which shows the dislocation of the part etc. \"\n",
    "# help_text[\"verschlissen\"] = \"For worn-out tyres please capture the typres tread wear to show worn-out effect\"\n",
    "\n",
    "# def get_help_text(d):\n",
    "#     if d in help_text:\n",
    "#         return help_text[d]\n",
    "#     else:\n",
    "#         return \"Please look for area of damage and capture with bounding box\"\n",
    "# df[\"help_text\"] = df.damage.map(lambda d : get_help_text(d))"
   ]
  },
  {
   "cell_type": "code",
   "execution_count": null,
   "metadata": {
    "collapsed": true
   },
   "outputs": [],
   "source": []
  },
  {
   "cell_type": "code",
   "execution_count": null,
   "metadata": {
    "collapsed": true
   },
   "outputs": [],
   "source": []
  },
  {
   "cell_type": "code",
   "execution_count": 8,
   "metadata": {},
   "outputs": [],
   "source": [
    "# print(damages_en)\n",
    "\n",
    "        \n",
    "#list(map( lambda d: clean_damage_name(d), damages_en ))\n",
    "# d1 = list(map( lambda d: d.replace(\" \",\"\"), damages_en ) )\n",
    "# d1 = list(map( lambda d: d.replace(\"/\",\"_\"), d1 ) )\n",
    "# print(d1)\n"
   ]
  },
  {
   "cell_type": "code",
   "execution_count": 13,
   "metadata": {},
   "outputs": [
    {
     "name": "stdout",
     "output_type": "stream",
     "text": [
      "steinschlag\n",
      "kratzer\n",
      "dellen\n"
     ]
    }
   ],
   "source": [
    "IBM_CASES = ['steinschlag','kratzer','dellen']\n",
    "IBM_CASES_SAMPLES = []\n",
    "IBM_CASES_DICT = dict()\n",
    "print(IBM_CASES[0])\n",
    "tmp1 = df.loc[df['damage'] ==IBM_CASES[0]]\n",
    "IBM_CASES_DICT[IBM_CASES[0]] = list(tmp1['part'].value_counts().head(2).index)\n",
    "#IBM_CASES_SAMPLES.append( tmp1['part_en'].value_counts().head(2) )\n",
    "print(IBM_CASES[1])\n",
    "tmp1 = df.loc[df['damage'] ==IBM_CASES[1]]\n",
    "IBM_CASES_DICT[IBM_CASES[1]] = list(tmp1['part'].value_counts().head(7).index)\n",
    "#IBM_CASES_SAMPLES.append( tmp1['part_en'].value_counts().head(7) )\n",
    "print(IBM_CASES[2])\n",
    "tmp1 = df.loc[df['damage'] ==IBM_CASES[2]]\n",
    "IBM_CASES_DICT[IBM_CASES[2]] = list(tmp1['part'].value_counts().head(7).index)\n",
    "#IBM_CASES_SAMPLES.append( tmp1['part_en'].value_counts().head(7) )"
   ]
  },
  {
   "cell_type": "code",
   "execution_count": 27,
   "metadata": {},
   "outputs": [
    {
     "name": "stdout",
     "output_type": "stream",
     "text": [
      "Sample shape  (4000, 14)\n",
      "\n",
      " ===== chunks 8 , df_size 8\n",
      "Sample shape  (4000, 14)\n",
      "\n",
      " ===== chunks 8 , df_size 8\n",
      "Sample shape  (4000, 14)\n",
      "\n",
      " ===== chunks 8 , df_size 8\n"
     ]
    }
   ],
   "source": [
    "from shutil import copyfile\n",
    "def get_img_file_path(uid, bildname):    \n",
    "    image_src_dir = '/home/mohsan/vwfs_p2/data/original/img'\n",
    "    image_dest_dir = './data/img'\n",
    "    img_src_path = os.path.join(image_src_dir, uid, bildname)        \n",
    "    img_dest_path = os.path.join(image_dest_dir, uid)\n",
    "    if not os.path.exists(img_dest_path):\n",
    "        os.makedirs(img_dest_path)        \n",
    "    img_dest_path = os.path.join(img_dest_path, bildname)            \n",
    "    copyfile(img_src_path, img_dest_path)    \n",
    "    return img_dest_path\n",
    "\n",
    "def get_ann_file_path(uid, bildname):   \n",
    "    annotation_dest_dir = './data/annotation'\n",
    "    ann_dest_path = os.path.join(annotation_dest_dir, uid)\n",
    "    if not os.path.exists(ann_dest_path):\n",
    "        os.makedirs(ann_dest_path)\n",
    "        #print(\"ann dest path - > \", ann_dest_path)\n",
    "    return ann_dest_path\n",
    "\n",
    "chunks = 8\n",
    "batch_root_dir = './csv_data/batch'\n",
    "damage_dict_batch_csv = dict()\n",
    "    \n",
    "for damage, d_list in IBM_CASES_DICT.items():\n",
    "    df_dmg = df.loc[df['damage'] == damage]\n",
    "    df_dmg = df_dmg.loc[df_dmg['part'].isin(d_list)]\n",
    "    samples  = df_dmg.sample(n=4000)\n",
    "    print(\"Sample shape \",samples.shape)\n",
    "    #chunks = int(np.ceil(df_dmg.shape[0] / BATCH_SIZE))\n",
    "    #print(damage)\n",
    "    #print(d_list)\n",
    "    df_array = np.array_split(samples, chunks)\n",
    "    print(\"\\n ===== chunks {} , df_size {}\".format(chunks, len(df_array)))\n",
    "    batch = 0\n",
    "    batch_path = os.path.join(batch_root_dir, damage)\n",
    "    if not os.path.exists(batch_path):        \n",
    "        os.makedirs(batch_path)\n",
    "    damage_dict_batch_csv[damage] = dict()\n",
    "    for df_batch in df_array:        \n",
    "        batch += 1                \n",
    "        csv_file_chunk = os.path.join(batch_path, \"{}_batch_{}_of_{}.csv\".format(damage, batch, chunks))\n",
    "        df_batch['img_file_path'] = df_batch.apply(lambda row: get_img_file_path(row['uid'], row['bildname']),  axis=1)\n",
    "        df_batch['ann_file_path'] = df_batch.apply(lambda row: get_ann_file_path(row['uid'], row['bildname']),  axis=1)        \n",
    "        #print(df_batch.shape, ' --> ', csv_file_chunk)        \n",
    "        df_batch.to_csv(csv_file_chunk, index=False, sep='|')\n",
    "        damage_dict_batch_csv[damage][csv_file_chunk] = df_batch\n",
    "        "
   ]
  },
  {
   "cell_type": "code",
   "execution_count": null,
   "metadata": {},
   "outputs": [],
   "source": []
  },
  {
   "cell_type": "code",
   "execution_count": 86,
   "metadata": {},
   "outputs": [
    {
     "name": "stdout",
     "output_type": "stream",
     "text": [
      "D:kratzer, W:junaid, C:0, i:0\n",
      "D:kratzer, W:junaid, C:1, i:1\n",
      "D:kratzer, W:junaid, C:2, i:2\n",
      "D:kratzer, W:usman, C:3, i:0\n",
      "D:kratzer, W:usman, C:4, i:1\n",
      "D:kratzer, W:usman, C:5, i:2\n",
      "D:kratzer, W:mohsan, C:6, i:0\n",
      "D:kratzer, W:mohsan, C:7, i:1\n",
      "D:steinschlag, W:junaid, C:0, i:0\n",
      "D:steinschlag, W:junaid, C:1, i:1\n",
      "D:steinschlag, W:junaid, C:2, i:2\n",
      "D:steinschlag, W:usman, C:3, i:0\n",
      "D:steinschlag, W:usman, C:4, i:1\n",
      "D:steinschlag, W:usman, C:5, i:2\n",
      "D:steinschlag, W:mohsan, C:6, i:0\n",
      "D:steinschlag, W:mohsan, C:7, i:1\n",
      "D:dellen, W:junaid, C:0, i:0\n",
      "D:dellen, W:junaid, C:1, i:1\n",
      "D:dellen, W:junaid, C:2, i:2\n",
      "D:dellen, W:usman, C:3, i:0\n",
      "D:dellen, W:usman, C:4, i:1\n",
      "D:dellen, W:usman, C:5, i:2\n",
      "D:dellen, W:mohsan, C:6, i:0\n",
      "D:dellen, W:mohsan, C:7, i:1\n"
     ]
    }
   ],
   "source": [
    "worker_name_count = {'junaid': 4, 'usman': 4, 'mohsan': 2}\n",
    "worker_name = ['junaid', 'usman', 'mohsan']\n",
    "\n",
    "worker_batch = dict()\n",
    "for worker, num in worker_name_count.items():\n",
    "    worker_batch[worker] = dict()\n",
    "    for damage in IBM_CASES:\n",
    "        worker_batch[worker][damage] = dict()\n",
    "\n",
    "for damage, batch in damage_dict_batch_csv.items():    \n",
    "    count = 0 \n",
    "    i = 0        \n",
    "    w_id = 0\n",
    "    for csv_file, df in batch.items():                 \n",
    "        worker = worker_name[w_id]\n",
    "        print(\"D:{}, W:{}, C:{}, i:{}\".format(damage, worker, count,i ) )\n",
    "        #print(worker, count, i)\n",
    "        worker_batch[worker][damage][i] = dict()\n",
    "        worker_batch[worker][damage][i][csv_file] = df.shape[0]\n",
    "        count += 1\n",
    "        i +=1\n",
    "        if count % 3 == 0:\n",
    "            i = 0\n",
    "            w_id +=1\n",
    "    \n",
    "    "
   ]
  },
  {
   "cell_type": "code",
   "execution_count": 87,
   "metadata": {},
   "outputs": [
    {
     "name": "stdout",
     "output_type": "stream",
     "text": [
      "W:usman, D:kratzer, ID:0, F:{'./csv_data/batch/kratzer/kratzer_batch_3_of_8.csv': 500}\n",
      "\n",
      "\n",
      "W:usman, D:kratzer, ID:1, F:{'./csv_data/batch/kratzer/kratzer_batch_2_of_8.csv': 500}\n",
      "\n",
      "\n",
      "W:usman, D:kratzer, ID:2, F:{'./csv_data/batch/kratzer/kratzer_batch_4_of_8.csv': 500}\n",
      "\n",
      "\n",
      "W:usman, D:steinschlag, ID:0, F:{'./csv_data/batch/steinschlag/steinschlag_batch_2_of_8.csv': 500}\n",
      "\n",
      "\n",
      "W:usman, D:steinschlag, ID:1, F:{'./csv_data/batch/steinschlag/steinschlag_batch_1_of_8.csv': 500}\n",
      "\n",
      "\n",
      "W:usman, D:steinschlag, ID:2, F:{'./csv_data/batch/steinschlag/steinschlag_batch_8_of_8.csv': 500}\n",
      "\n",
      "\n",
      "W:usman, D:dellen, ID:0, F:{'./csv_data/batch/dellen/dellen_batch_6_of_8.csv': 500}\n",
      "\n",
      "\n",
      "W:usman, D:dellen, ID:1, F:{'./csv_data/batch/dellen/dellen_batch_2_of_8.csv': 500}\n",
      "\n",
      "\n",
      "W:usman, D:dellen, ID:2, F:{'./csv_data/batch/dellen/dellen_batch_1_of_8.csv': 500}\n",
      "\n",
      "\n",
      "W:mohsan, D:kratzer, ID:0, F:{'./csv_data/batch/kratzer/kratzer_batch_8_of_8.csv': 500}\n",
      "\n",
      "\n",
      "W:mohsan, D:kratzer, ID:1, F:{'./csv_data/batch/kratzer/kratzer_batch_5_of_8.csv': 500}\n",
      "\n",
      "\n",
      "W:mohsan, D:steinschlag, ID:0, F:{'./csv_data/batch/steinschlag/steinschlag_batch_5_of_8.csv': 500}\n",
      "\n",
      "\n",
      "W:mohsan, D:steinschlag, ID:1, F:{'./csv_data/batch/steinschlag/steinschlag_batch_3_of_8.csv': 500}\n",
      "\n",
      "\n",
      "W:mohsan, D:dellen, ID:0, F:{'./csv_data/batch/dellen/dellen_batch_3_of_8.csv': 500}\n",
      "\n",
      "\n",
      "W:mohsan, D:dellen, ID:1, F:{'./csv_data/batch/dellen/dellen_batch_7_of_8.csv': 500}\n",
      "\n",
      "\n",
      "W:junaid, D:kratzer, ID:0, F:{'./csv_data/batch/kratzer/kratzer_batch_7_of_8.csv': 500}\n",
      "\n",
      "\n",
      "W:junaid, D:kratzer, ID:1, F:{'./csv_data/batch/kratzer/kratzer_batch_1_of_8.csv': 500}\n",
      "\n",
      "\n",
      "W:junaid, D:kratzer, ID:2, F:{'./csv_data/batch/kratzer/kratzer_batch_6_of_8.csv': 500}\n",
      "\n",
      "\n",
      "W:junaid, D:steinschlag, ID:0, F:{'./csv_data/batch/steinschlag/steinschlag_batch_6_of_8.csv': 500}\n",
      "\n",
      "\n",
      "W:junaid, D:steinschlag, ID:1, F:{'./csv_data/batch/steinschlag/steinschlag_batch_4_of_8.csv': 500}\n",
      "\n",
      "\n",
      "W:junaid, D:steinschlag, ID:2, F:{'./csv_data/batch/steinschlag/steinschlag_batch_7_of_8.csv': 500}\n",
      "\n",
      "\n",
      "W:junaid, D:dellen, ID:0, F:{'./csv_data/batch/dellen/dellen_batch_8_of_8.csv': 500}\n",
      "\n",
      "\n",
      "W:junaid, D:dellen, ID:1, F:{'./csv_data/batch/dellen/dellen_batch_5_of_8.csv': 500}\n",
      "\n",
      "\n",
      "W:junaid, D:dellen, ID:2, F:{'./csv_data/batch/dellen/dellen_batch_4_of_8.csv': 500}\n",
      "\n",
      "\n"
     ]
    }
   ],
   "source": [
    "\n",
    "for worker, v1 in worker_batch.items():    \n",
    "    for damage, v2 in v1.items():         \n",
    "        for id, fname in v2.items():         \n",
    "            print(\"W:{}, D:{}, ID:{}, F:{}\\n\\n\".format(worker, damage, id, fname))\n",
    "          "
   ]
  },
  {
   "cell_type": "code",
   "execution_count": null,
   "metadata": {},
   "outputs": [],
   "source": []
  },
  {
   "cell_type": "code",
   "execution_count": 90,
   "metadata": {},
   "outputs": [
    {
     "name": "stdout",
     "output_type": "stream",
     "text": [
      "junaid\n",
      "usman\n",
      "mohsan\n"
     ]
    }
   ],
   "source": [
    "worker_name = ['junaid', 'usman', 'mohsan']\n",
    "basedir = \"./\"\n",
    "for name in worker_name:\n",
    "    json_file =  os.path.join(basedir,'json_data', \"{}.json\".format(name))\n",
    "    Worker = dict()\n",
    "    print(name)\n",
    "    Worker['name']=name\n",
    "    Worker['Batches'] = dict()\n",
    "    v1 = worker_batch[name]\n",
    "    for damage, v2 in v1.items():         \n",
    "        for id, v3 in v2.items():         \n",
    "            for fname, Tsamples in v3.items():\n",
    "                Worker['Batches'][fname] = dict()\n",
    "                Worker['Batches'][fname]['Total Count'] = Tsamples\n",
    "                Worker['Batches'][fname]['Done Count'] = 0\n",
    "                Worker['Batches'][fname]['Remain Count'] = Tsamples\n",
    "    with open(json_file, 'w') as outfile:\n",
    "        json.dump(Worker, outfile)         "
   ]
  },
  {
   "cell_type": "code",
   "execution_count": 66,
   "metadata": {},
   "outputs": [
    {
     "ename": "IndentationError",
     "evalue": "expected an indented block (<ipython-input-66-dc5ed5be6174>, line 5)",
     "output_type": "error",
     "traceback": [
      "\u001b[0;36m  File \u001b[0;32m\"<ipython-input-66-dc5ed5be6174>\"\u001b[0;36m, line \u001b[0;32m5\u001b[0m\n\u001b[0;31m    json_file =  os.path.join(basedir,'json_data', \"{}.json\".format(name))\u001b[0m\n\u001b[0m            ^\u001b[0m\n\u001b[0;31mIndentationError\u001b[0m\u001b[0;31m:\u001b[0m expected an indented block\n"
     ]
    }
   ],
   "source": [
    "    \n",
    "worker_name = ['junaid', 'usman', 'mohsan']\n",
    "basedir = \"./\"\n",
    "for name in worker_name:\n",
    "    json_file =  os.path.join(basedir,'json_data', \"{}.json\".format(name))\n",
    "    print(json_file)\n",
    "    Worker = dict()\n",
    "    Worker['name']=name\n",
    "    Worker['Batches'] = dict()\n",
    "    v1 = worker_batch[name]:\n",
    "    for damage, v2 in v1.items():         \n",
    "        for id, fname in v2.items():         \n",
    "            TMP['Batches'].append(fname)    \n",
    "    \n",
    "#     Worker['Total Count'] = sa2.shape[0]\n",
    "#     Worker['Done Count'] = 0\n",
    "#     Worker['Remain Count'] = sa2.shape[0]\n",
    "#     Worker['data_json'] = json_file\n",
    "#     Worker['data_csv'] = csv_file\n",
    "#     Worker['save_dir'] = csv_file\n",
    "    print(Worker)\n",
    "#     with open(json_file, 'w') as outfile:\n",
    "#         json.dump(Worker, outfile)    \n"
   ]
  },
  {
   "cell_type": "code",
   "execution_count": null,
   "metadata": {
    "collapsed": true
   },
   "outputs": [],
   "source": []
  },
  {
   "cell_type": "code",
   "execution_count": null,
   "metadata": {
    "collapsed": true
   },
   "outputs": [],
   "source": []
  },
  {
   "cell_type": "code",
   "execution_count": null,
   "metadata": {
    "collapsed": true
   },
   "outputs": [],
   "source": []
  },
  {
   "cell_type": "code",
   "execution_count": null,
   "metadata": {
    "collapsed": true
   },
   "outputs": [],
   "source": []
  },
  {
   "cell_type": "code",
   "execution_count": null,
   "metadata": {
    "collapsed": true
   },
   "outputs": [],
   "source": [
    "#worker_name = ['mohsan', 'mofassir', 'lars', 'hadi', 'randolf','jonas','ahmed','vijaya']\n",
    "worker_name = ['junaid', 'usman', 'mohsan']\n",
    "basedir = \"/home/mohsan/Desktop/VWFS-WP2/BoundingBox_software/labelImg/\"\n",
    "for name in worker_name:\n",
    "    \n",
    "    sa1 = df.loc[df['damage']=='undicht'].sample(frac=0.05)\n",
    "    sa2 = df.sample(frac=0.0006)\n",
    "    del sa1['img_file_path']\n",
    "    del sa2['img_file_path']\n",
    "    sa1['img_file_path'] = sa1[['uid','bildname']].apply(lambda row: get_img_file_path(row['uid'], row['bildname'], name),  axis=1) \n",
    "    #print(sa1.head() )    \n",
    "    sa2['img_file_path'] = sa2[['uid','bildname']].apply(lambda row: get_img_file_path(row['uid'], row['bildname'], name),  axis=1) \n",
    "      \n",
    "\n",
    "    #print('LEAK=', leak.shape)\n",
    "    #print('SUB=', subsampled.shape)\n",
    "    sa2 = pd.concat([sa2,sa1])\n",
    "    print(sa2.head() )      \n",
    "    #subsampled.loc[subsampled['damage']=='undicht']\n",
    "    csv_file = os.path.join('csv_data', \"{}.csv\".format(name))\n",
    "    json_file =  os.path.join(basedir,'json_data', \"{}.json\".format(name))\n",
    "    print(json_file)\n",
    "    Worker = dict()\n",
    "    Worker['name']=name\n",
    "    Worker['Total Count'] = sa2.shape[0]\n",
    "    Worker['Done Count'] = 0\n",
    "    Worker['Remain Count'] = sa2.shape[0]\n",
    "    Worker['data_json'] = json_file\n",
    "    Worker['data_csv'] = csv_file\n",
    "    Worker['save_dir'] = csv_file\n",
    "    sa2.to_csv(csv_file, sep=\"|\", index=False)\n",
    "    with open(json_file, 'w') as outfile:\n",
    "        json.dump(Worker, outfile)    \n"
   ]
  }
 ],
 "metadata": {
  "kernelspec": {
   "display_name": "Python [default]",
   "language": "python",
   "name": "python3"
  },
  "language_info": {
   "codemirror_mode": {
    "name": "ipython",
    "version": 3
   },
   "file_extension": ".py",
   "mimetype": "text/x-python",
   "name": "python",
   "nbconvert_exporter": "python",
   "pygments_lexer": "ipython3",
   "version": "3.5.3"
  }
 },
 "nbformat": 4,
 "nbformat_minor": 2
}
